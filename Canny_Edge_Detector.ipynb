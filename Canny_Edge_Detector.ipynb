{
 "cells": [
  {
   "cell_type": "code",
   "execution_count": 13,
   "metadata": {},
   "outputs": [],
   "source": [
    "#%matplotlib inline\n",
    "from utils import utils\n",
    "import canny_edge_detector as ced\n",
    "#import cv2\n",
    "import time\n",
    "from PIL import Image  \n",
    "import PIL  \n",
    "import matplotlib.pyplot as plt\n",
    "import os"
   ]
  },
  {
   "cell_type": "code",
   "execution_count": 14,
   "metadata": {},
   "outputs": [],
   "source": [
    "imgs = utils.load_data()\n",
    "#utils.visualize(imgs, 'gray')"
   ]
  },
  {
   "cell_type": "code",
   "execution_count": 15,
   "metadata": {},
   "outputs": [],
   "source": [
    "detector = ced.cannyEdgeDetector(imgs, sigma=1.4, kernel_size=5, lowthreshold=0.09, highthreshold=0.17, weak_pixel=100)"
   ]
  },
  {
   "cell_type": "code",
   "execution_count": 16,
   "metadata": {},
   "outputs": [],
   "source": [
    "imgs_final = detector.detect()\n",
    "#print(imgs_final)"
   ]
  },
  {
   "cell_type": "code",
   "execution_count": 17,
   "metadata": {},
   "outputs": [],
   "source": [
    "#utils.visualize(imgs_final, 'gray')"
   ]
  },
  {
   "cell_type": "code",
   "execution_count": 18,
   "metadata": {},
   "outputs": [],
   "source": [
    "from skimage.io import imsave\n",
    "from skimage import img_as_ubyte\n",
    "i=0\n",
    "dir_name = 'C:/Users/shrey/Job/canny_edge_detector-master/faces_imgs/archive'\n",
    "for filename in os.listdir(dir_name): \n",
    "    f_name  = os.path.basename(filename)\n",
    "    #print(f_name)\n",
    "    #print(len(imgs_final))\n",
    "    resulted = imgs_final[i]\n",
    "    imsave('C:/Users/shrey/Job/canny_edge_detector-master/result/{}'.format(f_name),img_as_ubyte(resulted))\n",
    "    #print(i)\n",
    "    i+=1"
   ]
  }
 ],
 "metadata": {
  "kernelspec": {
   "display_name": "Python 3",
   "language": "python",
   "name": "python3"
  },
  "language_info": {
   "codemirror_mode": {
    "name": "ipython",
    "version": 3
   },
   "file_extension": ".py",
   "mimetype": "text/x-python",
   "name": "python",
   "nbconvert_exporter": "python",
   "pygments_lexer": "ipython3",
   "version": "3.7.6"
  }
 },
 "nbformat": 4,
 "nbformat_minor": 2
}
